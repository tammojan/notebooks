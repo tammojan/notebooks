{
 "cells": [
  {
   "cell_type": "code",
   "execution_count": 1,
   "metadata": {},
   "outputs": [],
   "source": [
    "import pandas as pd\n",
    "import matplotlib.pyplot as plt\n",
    "import numpy as np\n",
    "from datetime import datetime, date, timedelta\n",
    "from pandas.plotting import register_matplotlib_converters\n",
    "import matplotlib.dates as mdates\n",
    "register_matplotlib_converters()"
   ]
  },
  {
   "cell_type": "code",
   "execution_count": 2,
   "metadata": {},
   "outputs": [],
   "source": [
    "from scipy.signal import medfilt"
   ]
  },
  {
   "cell_type": "code",
   "execution_count": 3,
   "metadata": {},
   "outputs": [],
   "source": [
    "locations = [\"Sellingen\", \"Roodeschool\", \"Lochem\", \"Lauwersoog\", \"Hornhuizen\", \"DeZilk\", \"Boerakker\"]"
   ]
  },
  {
   "cell_type": "code",
   "execution_count": 4,
   "metadata": {},
   "outputs": [],
   "source": [
    "dates = [\"20200109\", \"20200110\", \"20200111\"]"
   ]
  },
  {
   "cell_type": "code",
   "execution_count": null,
   "metadata": {},
   "outputs": [],
   "source": [
    "big_df = None\n",
    "for mydate in dates:\n",
    "    for location in locations:\n",
    "        url = f\"https://www.washetdonker.nl/data/{location}/2020/01/{mydate}_120000_SQM-{location}.dat\"\n",
    "        df = pd.read_csv(url, sep=\";\", comment=\"#\",\n",
    "                         names=\"UTC Date & Time, Local Date & Time, Temperature, Counts, Frequency, MSAS\".split(\", \"))\n",
    "        df[\"Location\"] = location\n",
    "        df[\"Local Date & Time\"] = pd.to_datetime(df[\"Local Date & Time\"])\n",
    "        df[\"UTC Date & Time\"] = pd.to_datetime(df[\"UTC Date & Time\"], utc=True)\n",
    "        if big_df is None:\n",
    "            big_df = df\n",
    "        else:\n",
    "            big_df = big_df.append(df)"
   ]
  },
  {
   "cell_type": "code",
   "execution_count": null,
   "metadata": {},
   "outputs": [],
   "source": [
    "nice_locations = [\"Sellingen\", \"Lochem\", \"Hornhuizen\", \"Boerakker\"]"
   ]
  },
  {
   "cell_type": "code",
   "execution_count": null,
   "metadata": {},
   "outputs": [],
   "source": [
    "def remove_outliers(data):\n",
    "    mydata = data.copy()\n",
    "    mydata[np.abs(medfilt(mydata, 51)-mydata) > 0.1] = np.nan\n",
    "    return mydata"
   ]
  },
  {
   "cell_type": "code",
   "execution_count": null,
   "metadata": {},
   "outputs": [],
   "source": [
    "fig, axs = plt.subplots(2, 2, figsize=(14, 8))\n",
    "\n",
    "for axnum, location in enumerate(nice_locations):\n",
    "    ax = axs[axnum//2, axnum%2]\n",
    "    \n",
    "    # Today\n",
    "    df = big_df[(big_df[\"Location\"] == location) & \\\n",
    "                (big_df[\"Local Date & Time\"].dt.date == date(2020, 1, 10))]\n",
    "    msas_data = remove_outliers(df[\"MSAS\"])\n",
    "    ax.plot(df[\"Local Date & Time\"], msas_data, 'k');\n",
    "    \n",
    "    ax.tick_params(direction=\"in\")\n",
    "\n",
    "    ax.set_ylim((15, 19));\n",
    "    ax.xaxis.set_major_locator(mdates.HourLocator())\n",
    "    ax.xaxis.set_major_formatter(mdates.DateFormatter(\"%H:%M\"))\n",
    "    ax.set_xlim((datetime(2020,1,10,17,30), datetime(2020,1,10, 23, 59)));\n",
    "    ax.set_xlabel(\"10 januari 2020, lokale tijd (UTC+1)\")\n",
    "    ax.set_ylabel(\"MSAS (mag/arcsec$^2$)\\nhoger is donkerder\");\n",
    "    ax.set_yticks(np.arange(16, 20, 0.5))\n",
    "    ax.set_title(location);\n",
    "    ax.axvline(datetime(2020, 1, 10, 18, 6, 24), c='k', linestyle='-.', linewidth=1)\n",
    "    ax.text(datetime(2020, 1, 10, 18, 10, 24), 15.2, 'begin gedeeltelijke eclips',\n",
    "            rotation=90, verticalalignment='bottom')\n",
    "    ax.axvline(datetime(2020, 1, 10, 20, 10, 39), c='k', linestyle='-.', linewidth=1)\n",
    "    ax.text(datetime(2020, 1, 10, 20, 14, 39), 15.2, 'maximum gedeeltelijke eclips',\n",
    "            rotation=90, verticalalignment='bottom')\n",
    "    ax.axvline(datetime(2020, 1, 10, 22, 15, 0), c='k', linestyle='-.', linewidth=1)\n",
    "    ax.text(datetime(2020, 1, 10, 22, 19, 0), 15.2, 'eind gedeeltelijke eclips',\n",
    "            rotation=90, verticalalignment='bottom')\n",
    "    \n",
    "plt.tight_layout()"
   ]
  }
 ],
 "metadata": {
  "kernelspec": {
   "display_name": "Python 3",
   "language": "python",
   "name": "python3"
  },
  "language_info": {
   "codemirror_mode": {
    "name": "ipython",
    "version": 3
   },
   "file_extension": ".py",
   "mimetype": "text/x-python",
   "name": "python",
   "nbconvert_exporter": "python",
   "pygments_lexer": "ipython3",
   "version": "3.6.8"
  }
 },
 "nbformat": 4,
 "nbformat_minor": 2
}
